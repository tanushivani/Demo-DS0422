{
 "cells": [
  {
   "cell_type": "code",
   "execution_count": 1,
   "id": "72793da6",
   "metadata": {},
   "outputs": [
    {
     "name": "stdout",
     "output_type": "stream",
     "text": [
      "HELLO WORLD\n"
     ]
    }
   ],
   "source": [
    "print('HELLO WORLD')"
   ]
  },
  {
   "cell_type": "code",
   "execution_count": 3,
   "id": "520ec95e",
   "metadata": {},
   "outputs": [
    {
     "name": "stdout",
     "output_type": "stream",
     "text": [
      "Hello jugnu\n"
     ]
    }
   ],
   "source": [
    "print(\"Hello jugnu\")"
   ]
  },
  {
   "cell_type": "code",
   "execution_count": 5,
   "id": "5b85cfc7",
   "metadata": {},
   "outputs": [
    {
     "name": "stdout",
     "output_type": "stream",
     "text": [
      "10\n"
     ]
    }
   ],
   "source": [
    "X=10\n",
    "print(X)"
   ]
  },
  {
   "cell_type": "code",
   "execution_count": 6,
   "id": "d5437be0",
   "metadata": {},
   "outputs": [
    {
     "name": "stdout",
     "output_type": "stream",
     "text": [
      "value of x= 10\n"
     ]
    }
   ],
   "source": [
    "print(\"value of x=\",X)"
   ]
  },
  {
   "cell_type": "code",
   "execution_count": 10,
   "id": "ed161216",
   "metadata": {},
   "outputs": [
    {
     "name": "stdout",
     "output_type": "stream",
     "text": [
      "30\n"
     ]
    }
   ],
   "source": [
    "y=20\n",
    "print(X+y)"
   ]
  },
  {
   "cell_type": "code",
   "execution_count": null,
   "id": "f67f82f6",
   "metadata": {},
   "outputs": [],
   "source": []
  }
 ],
 "metadata": {
  "kernelspec": {
   "display_name": "Python 3 (ipykernel)",
   "language": "python",
   "name": "python3"
  },
  "language_info": {
   "codemirror_mode": {
    "name": "ipython",
    "version": 3
   },
   "file_extension": ".py",
   "mimetype": "text/x-python",
   "name": "python",
   "nbconvert_exporter": "python",
   "pygments_lexer": "ipython3",
   "version": "3.9.7"
  }
 },
 "nbformat": 4,
 "nbformat_minor": 5
}
